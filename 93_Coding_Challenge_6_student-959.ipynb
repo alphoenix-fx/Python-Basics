{
 "cells": [
  {
   "cell_type": "markdown",
   "metadata": {},
   "source": [
    "# Python Bootcamp: Coding Challenge 6 - File I/O"
   ]
  },
  {
   "cell_type": "markdown",
   "metadata": {},
   "source": [
    "## This is not an autograded test."
   ]
  },
  {
   "cell_type": "markdown",
   "metadata": {},
   "source": [
    "## Question 1\n",
    "\n",
    "### Work search\n",
    "\n",
    "<img src=\"http://static.stuff.co.nz/1451941499/496/13579496.gif\" alt=\"HTML5 Icon\" width=\"512\" height=\"512\"/>"
   ]
  },
  {
   "cell_type": "markdown",
   "metadata": {},
   "source": [
    "Your employer likes songs about work. They are especially fond of _Work_ by Rihanna, and _Work From Home_ by Fifth Harmony. As a gift, you decide to let them know how many times the artists say \"work\". But you've been working so hard that you're feeling lazy. So you decide to write a program to do it for you.\n",
    "\n",
    "**Part 1**\n",
    "Write a function called `word_count` that takes two string arguments, `filename` and `word`, which reads through a text `file` and counts how many times the `word` appears, and returns the result.\n",
    "\n",
    "**Part 2**\n",
    "Write _a different_ function called `work_count` that returns the total number of times the word work appears in both songs. \n",
    "\n",
    "**Hints** \n",
    "1. You should call your own `word_count` function when writing this function.\n",
    "2. Remember that string has some and useful functions...\n",
    "\n",
    "We have provided two text files for you: [work.txt](https://drive.google.com/file/d/1rZ6iyKw_paWVfg6HZT45lbqONhxKgIzK/view?usp=sharing) and <a href=\"https://drive.google.com/open?id=1odjqhceDol5P6r7Snz13FvnMuilK9uWi\">work_from_home.txt</a>."
   ]
  },
  {
   "cell_type": "code",
   "execution_count": 73,
   "metadata": {},
   "outputs": [
    {
     "data": {
      "text/plain": [
       "80"
      ]
     },
     "execution_count": 73,
     "metadata": {},
     "output_type": "execute_result"
    }
   ],
   "source": [
    "# Write Part 1 here\n",
    "\n",
    "def word_count(filename, word):\n",
    "    x = \"\"\n",
    "    with open(filename, 'r') as f:\n",
    "        x = f.read()\n",
    "        x = x.lower()\n",
    "        return x.count(word)\n",
    "\n",
    "word_count(\"work.txt\", 'work')"
   ]
  },
  {
   "cell_type": "markdown",
   "metadata": {},
   "source": [
    "_**Expected Output:**_\n",
    "```python\n",
    "word_count(\"work.txt\", 'work')\n",
    "```\n",
    "    80\n",
    "\n",
    "```python\n",
    "word_count(\"work_from_home.txt\", 'work')\n",
    "```\n",
    "    96\n"
   ]
  },
  {
   "cell_type": "code",
   "execution_count": 85,
   "metadata": {},
   "outputs": [
    {
     "data": {
      "text/plain": [
       "176"
      ]
     },
     "execution_count": 85,
     "metadata": {},
     "output_type": "execute_result"
    }
   ],
   "source": [
    "# Write Part 2 here\n",
    "def work_count():\n",
    "    return word_count(\"work.txt\", 'work')+word_count(\"work_from_home.txt\", 'work')\n",
    "\n",
    "work_count()\n",
    "\n",
    "\n"
   ]
  },
  {
   "cell_type": "markdown",
   "metadata": {},
   "source": [
    "_**Expected Output:**_\n",
    "```python\n",
    "work_count()\n",
    "```\n",
    "    96"
   ]
  },
  {
   "cell_type": "markdown",
   "metadata": {},
   "source": [
    "## Question 2\n",
    "\n",
    "### Re-processing a 'csv'  "
   ]
  },
  {
   "cell_type": "markdown",
   "metadata": {},
   "source": [
    "Your employer wants you to do some fancy data science stuff with the [football_players.csv](https://drive.google.com/open?id=1tLD71e-ko0GACFiGrWRCMcEWPoet227k). However, the version you received does not separate its data with commas, but with semi-colons! #horror\n",
    "\n",
    "You know how to work with semi-colons, but you also know that it will cause problems for people in the future.\n",
    "#### Part 1\n",
    "You decide to write a Python function called `comman` that reads through the file, and changes all the semi-colons into commas."
   ]
  },
  {
   "cell_type": "code",
   "execution_count": 139,
   "metadata": {},
   "outputs": [
    {
     "name": "stderr",
     "output_type": "stream",
     "text": [
      "C:\\Users\\USER\\Anaconda3\\lib\\site-packages\\IPython\\core\\interactiveshell.py:2909: DtypeWarning: Columns (14,26) have mixed types. Specify dtype option on import or set low_memory=False.\n",
      "  if self.run_code(code, result):\n"
     ]
    }
   ],
   "source": [
    "# Write your function here\n",
    "import csv\n",
    "import pandas as pd\n",
    "def comma():\n",
    "    reader = pd.DataFrame(pd.read_csv('football_players.csv', delimiter=';'))\n",
    "    writer = reader.to_csv(\"football_players2.csv\")\n",
    "    return writer\n",
    "    \n",
    "comma()"
   ]
  },
  {
   "cell_type": "markdown",
   "metadata": {},
   "source": [
    "_**Expected Input/Output:**_\n",
    "\n",
    "if the file contains\n",
    "```\n",
    "a; b; c; d; e; f \n",
    "```\n",
    "then your program should change the file so it contains\n",
    "```\n",
    "a, b, c, d, e, f\n",
    "```"
   ]
  },
  {
   "cell_type": "markdown",
   "metadata": {},
   "source": [
    "#### Part 2\n",
    "You know that this will not be the last time that this sort of problem occurs. You also know that the filename will not always be `football_players.csv`, and that the offending character won't always be a semi-colon. Sometimes it will be an `@`, or a `-`, or a `+` or a blank space... Any special character, really.\n",
    "\n",
    "Write a function `make_csv` that will take any character-separated file, and turn it into a csv."
   ]
  },
  {
   "cell_type": "code",
   "execution_count": 156,
   "metadata": {},
   "outputs": [
    {
     "name": "stderr",
     "output_type": "stream",
     "text": [
      "C:\\Users\\USER\\Anaconda3\\lib\\site-packages\\ipykernel_launcher.py:5: ParserWarning: Falling back to the 'python' engine because the 'c' engine does not support regex separators (separators > 1 char and different from '\\s+' are interpreted as regex); you can avoid this warning by specifying engine='python'.\n",
      "  \"\"\"\n"
     ]
    }
   ],
   "source": [
    "# Write your function here\n",
    "import csv\n",
    "import pandas as pd\n",
    "def comma(fname):\n",
    "    reader = pd.DataFrame(pd.read_csv(\"football_players.csv\",delimiter=\";|%|@\"))                        \n",
    "    writer = reader.to_csv(\"football_players2.csv\")\n",
    "    return writer\n",
    "    \n",
    "comma('football_players.csv')"
   ]
  },
  {
   "cell_type": "markdown",
   "metadata": {},
   "source": [
    "_**Expected Input/Output:**_\n",
    "\n",
    "if the file is called \"trumps.csv\" and contains\n",
    "```\n",
    "a%20b%20c%20d%20e%20f \n",
    "```\n",
    "then your program should be able to change the file so that \"trumps.csv\" contains\n",
    "```\n",
    "a, b, c, d, e, f\n",
    "```\n",
    "**AND**\n",
    "if the file is called \"jabberacky.csv\" and contains \n",
    "```\n",
    "Twas@Swallows@Und@Das@Fetchy@Prose@Did@Whimsy@Op@Vase@Kindle@Gabe\n",
    "```\n",
    "then your program should be able to change the file so that \"jabberacky.csv\" contains\n",
    "```\n",
    "Twas,Swallows,Und,Das,Fetchy,Prose,Did,Whimsy,Op,Vase,Kindle,Gabe\n",
    "```\n",
    "without you editing the function itself."
   ]
  },
  {
   "cell_type": "code",
   "execution_count": null,
   "metadata": {},
   "outputs": [],
   "source": []
  }
 ],
 "metadata": {
  "kernelspec": {
   "display_name": "Python 3",
   "language": "python",
   "name": "python3"
  },
  "language_info": {
   "codemirror_mode": {
    "name": "ipython",
    "version": 3
   },
   "file_extension": ".py",
   "mimetype": "text/x-python",
   "name": "python",
   "nbconvert_exporter": "python",
   "pygments_lexer": "ipython3",
   "version": "3.6.5"
  },
  "toc": {
   "base_numbering": 1,
   "nav_menu": {},
   "number_sections": true,
   "sideBar": true,
   "skip_h1_title": false,
   "title_cell": "Table of Contents",
   "title_sidebar": "Contents",
   "toc_cell": false,
   "toc_position": {},
   "toc_section_display": true,
   "toc_window_display": false
  }
 },
 "nbformat": 4,
 "nbformat_minor": 2
}
