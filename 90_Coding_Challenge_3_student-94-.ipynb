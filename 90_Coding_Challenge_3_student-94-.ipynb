{
 "cells": [
  {
   "cell_type": "markdown",
   "metadata": {},
   "source": [
    "# Python Bootcamp: Coding Challenge 3 - Loops"
   ]
  },
  {
   "cell_type": "markdown",
   "metadata": {},
   "source": [
    "### Question 1 \n",
    "#### *Whizz, Bam - EXPLORE!*"
   ]
  },
  {
   "cell_type": "markdown",
   "metadata": {},
   "source": [
    "Your friend tells you of an amazing application of deep neural networks which allows a computer to generate its own [rap lyrics](https://towardsdatascience.com/text-predictor-generating-rap-lyrics-with-recurrent-neural-networks-lstms-c3a1acbbda79)! While you're totally enthralled by this idea, you realise that you may have to start off small before you can produce something similar. As such, you decide to create a Python function which generates some simplistic rap lyrics which you and your friends can practice with.\n",
    "\n",
    "***TASK:*** Write a function called `whizz_bam_explore` which produces a 'rap verse' as a Python `string` containing `n` phrases which can be either `'BAM', 'WHIZZ', 'EXPLORE!'` or `'dah-'`. \n",
    "\n",
    "The following rules determine the value of the $i^{th}$ phrase within the verse:\n",
    "\n",
    " - If the index of the current phrase is divisible by 3, set the phrase to equal `'WHIZZ'`\n",
    " - If the index of the current phrase is divisible by 5, set the phrase to equal `'BAM'`\n",
    " - If the index of the current phrase is divisible by *both* 3 and 5, set the phrase to equal `'EXPLORE!'`\n",
    " - If the index of the current phrase is divisible by *neither* 3 nor 5, set the phrase to equal `'dah-'`\n",
    " \n",
    "Function arguments: `n` - The number of phrases to include in the rap verse. $n \\ge 0$. \n",
    "\n",
    "Your function must return the generated rap verse as a single `string`. \n",
    "\n",
    "***Example:*** `whizz_bam_explore(5)` returns `'dah-dah-WHIZZdah-BAM'`. Here the function produces a 5-phrase verse. As the $3^{rd}$ phrase is divisible by 3,  it becomes `'WHIZZ'`, while the $5^{th}$ phrase becomes `BAM` due to being divisible by 5."
   ]
  },
  {
   "cell_type": "code",
   "execution_count": 1,
   "metadata": {},
   "outputs": [],
   "source": [
    "def whizz_bam_explore(x):\n",
    "    rap = ''\n",
    "    if x==1:\n",
    "        rap+='dah-'\n",
    "    for n in range(1,x+1):\n",
    "        if n%3 ==0 and n%5 !=0:\n",
    "            rap+='WHIZZ'\n",
    "        elif n%5 ==0 and n%3 !=0:\n",
    "            rap+='BAM'\n",
    "        elif n%3 ==0 and n%5 ==0:\n",
    "            rap+='EXPLORE!'\n",
    "        elif n%3 !=0 and n%5 !=0:\n",
    "            rap+='dah-'\n",
    "        \n",
    "    return rap\n",
    "    "
   ]
  },
  {
   "cell_type": "code",
   "execution_count": 2,
   "metadata": {},
   "outputs": [
    {
     "name": "stdout",
     "output_type": "stream",
     "text": [
      "dah-dah-WHIZZdah-BAMWHIZZdah-dah-WHIZZBAMdah-WHIZZdah-dah-EXPLORE!\n"
     ]
    }
   ],
   "source": [
    "n = 15\n",
    "print (whizz_bam_explore(n))"
   ]
  },
  {
   "cell_type": "markdown",
   "metadata": {},
   "source": [
    "**Expected Outputs:**\n",
    "```python\n",
    "whizz_bam_explore(0) == ''\n",
    "whizz_bam_explore(1) == 'dah-'\n",
    "whizz_bam_explore(18) == 'dah-dah-WHIZZdah-BAMWHIZZdah-dah-WHIZZBAMdah-WHIZZdah-dah-EXPLORE!dah-dah-WHIZZ'\n",
    "```"
   ]
  },
  {
   "cell_type": "markdown",
   "metadata": {},
   "source": [
    "### Question 2\n",
    "\n",
    "#### Indexed Square Matrix"
   ]
  },
  {
   "cell_type": "markdown",
   "metadata": {},
   "source": [
    "You've been programming for so long, you feel as though you're eyes are going square. To make matters worse, your friendly mentor asks you to write some code to generate variable-sized square matracies as part of a new linear-algebra library they are creating. To help troubleshoot the library's methods, the matrix is required to be [row-major](https://en.wikipedia.org/wiki/Row-_and_column-major_order) indexed; with the first entry of the matrix being equal to `1`, the second entry being equal to `2`, and so on. \n",
    "\n",
    "***Task:*** create a function called `square_matrix` which takes in an integer argument `n` and produces a Python `list` formatted as an $n \\times n$ square matrix whose entry values are equal to their order within a raw-major indexing of the matrix.\n",
    "\n",
    "Function arguments: `n` - An `int` specifying the number of rows and columns within the produced square matrix. The resulting matrix has $n \\times n$ entries within it. $n \\ge 0$\n",
    "\n",
    "Your function must return the matrix as a Python list. ***Note:*** the use of external libraries (such as `Numpy`) is not permitted within this question.\n",
    "\n",
    "***Example:*** \n",
    "\n",
    "```python\n",
    "square_matrix(3) == [[1, 2, 3], \n",
    "                     [4, 5, 6], \n",
    "                     [7, 8, 9]]\n",
    "```\n",
    "Here `n = 3`. The resulting matrix has $3$ rows and $3$ columns and a total of $3 \\times 3 = 9$ elements. Row-major indexing considers the elements within each row first, causing the values to be assigned from a left-to-right, top-to-bottom order. "
   ]
  },
  {
   "cell_type": "code",
   "execution_count": 3,
   "metadata": {},
   "outputs": [],
   "source": [
    "def square_matrix(n):\n",
    "        if n<=0:\n",
    "            return [] \n",
    "\n",
    "        matrix=[row[:] for row in [[0]*n]*n]\n",
    "        \n",
    "        row_st=0\n",
    "        row_ed=n-1\n",
    "        \n",
    "        col_st=0\n",
    "        col_ed=n-1\n",
    "        current=1\n",
    "        \n",
    "        while (True):\n",
    "            if current>n*n:\n",
    "                break\n",
    "            for c in range (col_st, col_ed+1):\n",
    "                matrix[row_st][c]=current\n",
    "                current+=1\n",
    "            row_st+=1\n",
    "          \n",
    "            \n",
    "          \n",
    "        return matrix\n",
    "\n",
    "    "
   ]
  },
  {
   "cell_type": "code",
   "execution_count": 4,
   "metadata": {},
   "outputs": [
    {
     "data": {
      "text/plain": [
       "[[1, 2, 3, 4, 5, 6, 7, 8, 9, 10],\n",
       " [11, 12, 13, 14, 15, 16, 17, 18, 19, 20],\n",
       " [21, 22, 23, 24, 25, 26, 27, 28, 29, 30],\n",
       " [31, 32, 33, 34, 35, 36, 37, 38, 39, 40],\n",
       " [41, 42, 43, 44, 45, 46, 47, 48, 49, 50],\n",
       " [51, 52, 53, 54, 55, 56, 57, 58, 59, 60],\n",
       " [61, 62, 63, 64, 65, 66, 67, 68, 69, 70],\n",
       " [71, 72, 73, 74, 75, 76, 77, 78, 79, 80],\n",
       " [81, 82, 83, 84, 85, 86, 87, 88, 89, 90],\n",
       " [91, 92, 93, 94, 95, 96, 97, 98, 99, 100]]"
      ]
     },
     "execution_count": 4,
     "metadata": {},
     "output_type": "execute_result"
    }
   ],
   "source": [
    "n = 10\n",
    "square_matrix(n)"
   ]
  },
  {
   "cell_type": "markdown",
   "metadata": {},
   "source": [
    "_**Expected Outputs:**_\n",
    "```python\n",
    "square_matrix(1) == [[1]]\n",
    "\n",
    "square_matrix(5) == [[1, 2, 3, 4, 5],\n",
    "                    [6, 7, 8, 9, 10],\n",
    "                    [11, 12, 13, 14, 15],\n",
    "                    [16, 17, 18, 19, 20],\n",
    "                    [21, 22, 23, 24, 25]]\n",
    "\n",
    "square_matrix(10) == [[1, 2, 3, 4, 5, 6, 7, 8, 9, 10],\n",
    "                     [11, 12, 13, 14, 15, 16, 17, 18, 19, 20],\n",
    "                     [21, 22, 23, 24, 25, 26, 27, 28, 29, 30],\n",
    "                     [31, 32, 33, 34, 35, 36, 37, 38, 39, 40],\n",
    "                     [41, 42, 43, 44, 45, 46, 47, 48, 49, 50],\n",
    "                     [51, 52, 53, 54, 55, 56, 57, 58, 59, 60],\n",
    "                     [61, 62, 63, 64, 65, 66, 67, 68, 69, 70],\n",
    "                     [71, 72, 73, 74, 75, 76, 77, 78, 79, 80],\n",
    "                     [81, 82, 83, 84, 85, 86, 87, 88, 89, 90],\n",
    "                     [91, 92, 93, 94, 95, 96, 97, 98, 99, 100]]\n",
    "```"
   ]
  },
  {
   "cell_type": "markdown",
   "metadata": {},
   "source": [
    "### Question 3\n",
    "\n",
    "#### Finding the Sum of a Symmetrical Sub-List  "
   ]
  },
  {
   "cell_type": "markdown",
   "metadata": {},
   "source": [
    "Its been a really long day at the Academy. With attempts at rap verses and square matracies behind you, your mentor wants one final piece of code:\n",
    "\n",
    "***Task:*** Create a function called `symmetrical_sum` which takes a Python `list` of integers as input and searches for a 'symmetrical' inner-portion of the list. Here symmetry is said to occur if the value of the $i^{th}$ element from the start of the list is equal to the value of the $i^{th}$ value from the end of the list. The inner-portion then consists of all elements between and including these equal values. If found, the function returns both the symmetrical part of the list, as well as the sum of its constituent elements as a `tuple`.\n",
    "\n",
    "Function arguments: `lst` - a Python `list` containing elements of type `int`. *Note:* `len(lst)` $\\ge 0$\n",
    "\n",
    "Returns: A Python tuple of the form `([symmetrical-portion], sum-of-symmetrical-portion)`\n",
    "\n",
    "***Example:*** `symmetrical_sum([10,8,7,5,9,8,15]) == ([8, 7, 5, 9, 8], 37)`. Here a symmetrical portion of the list is formed by the elements at the second and second-last index, which share a value of 8. The function returns this symmetrical portion, as well as its sum of 37 within a a single tuple."
   ]
  },
  {
   "cell_type": "code",
   "execution_count": 27,
   "metadata": {},
   "outputs": [],
   "source": [
    "def symmetrical_sum(a):\n",
    "    n =0\n",
    "    nx =-1\n",
    "    tup = []\n",
    "\n",
    "    for i in a:\n",
    "        if a[n] == a[nx]:\n",
    "            if nx == -1:\n",
    "                tup.append(a[n:])\n",
    "                tup.append(sum(a[n:]))\n",
    "                return tuple(tup)\n",
    "            else:\n",
    "                tup.append(a[n:nx+1])\n",
    "                tup.append(sum(a[n:nx+1]))\n",
    "                return tuple(tup)\n",
    "        n+=1\n",
    "        nx-=1\n",
    "    return ([],0)                 \n",
    "    "
   ]
  },
  {
   "cell_type": "code",
   "execution_count": 28,
   "metadata": {},
   "outputs": [
    {
     "name": "stdout",
     "output_type": "stream",
     "text": [
      "([], 0)\n"
     ]
    }
   ],
   "source": [
    "lst = [1, 2, 3, 4, 5, 6, 7, 8]\n",
    "print (symmetrical_sum(lst))"
   ]
  },
  {
   "cell_type": "markdown",
   "metadata": {},
   "source": [
    "_**Expected Outputs:**_\n",
    "```python\n",
    "symmetrical_sum([0]) == ([0], 0)\n",
    "symmetrical_sum([2,5,3]) == ([5], 5)\n",
    "symmetrical_sum([11,12,13,14,-53,-13,12,10]) == ([12, 13, 14, -53, -13, 12], -15)\n",
    "```"
   ]
  }
 ],
 "metadata": {
  "kernelspec": {
   "display_name": "Python 3",
   "language": "python",
   "name": "python3"
  },
  "language_info": {
   "codemirror_mode": {
    "name": "ipython",
    "version": 3
   },
   "file_extension": ".py",
   "mimetype": "text/x-python",
   "name": "python",
   "nbconvert_exporter": "python",
   "pygments_lexer": "ipython3",
   "version": "3.6.5"
  },
  "toc": {
   "base_numbering": 1,
   "nav_menu": {},
   "number_sections": true,
   "sideBar": true,
   "skip_h1_title": false,
   "title_cell": "Table of Contents",
   "title_sidebar": "Contents",
   "toc_cell": false,
   "toc_position": {},
   "toc_section_display": true,
   "toc_window_display": false
  }
 },
 "nbformat": 4,
 "nbformat_minor": 2
}
