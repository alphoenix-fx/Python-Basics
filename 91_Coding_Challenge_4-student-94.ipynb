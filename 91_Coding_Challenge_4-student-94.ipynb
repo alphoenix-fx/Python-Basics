{
 "cells": [
  {
   "cell_type": "markdown",
   "metadata": {},
   "source": [
    "# Coding Challenge 4 - Lambdas and List Comprehensions"
   ]
  },
  {
   "cell_type": "markdown",
   "metadata": {},
   "source": [
    "In today's challenge, we consider Python's Lambda functions and their use in constructs such as list comprehensions. A lambda function is used for creating small, one-time and anonymous function objects in Python. It can take any number of arguments, but can only have one expression. The syntax for a lambda function is given below\n",
    "\n",
    "```python\n",
    "lambda arguments : expression\n",
    "```\n",
    "\n",
    "Even though there are other ways to complete these questions, try answer them using lambda functions."
   ]
  },
  {
   "cell_type": "markdown",
   "metadata": {},
   "source": [
    "## Challenge 0 - Basic Lambda Expressions"
   ]
  },
  {
   "cell_type": "markdown",
   "metadata": {},
   "source": [
    "The following lambda function adds its two parameters together:"
   ]
  },
  {
   "cell_type": "code",
   "execution_count": 11,
   "metadata": {},
   "outputs": [
    {
     "data": {
      "text/plain": [
       "5"
      ]
     },
     "execution_count": 11,
     "metadata": {},
     "output_type": "execute_result"
    }
   ],
   "source": [
    "add = lambda x, y : x + y \n",
    "  \n",
    "add(2, 3)"
   ]
  },
  {
   "cell_type": "markdown",
   "metadata": {},
   "source": [
    "Try this yourself. Write a lambda function called `multiply` which multiplies two parameters together."
   ]
  },
  {
   "cell_type": "code",
   "execution_count": 12,
   "metadata": {},
   "outputs": [],
   "source": [
    "multiply = lambda x, y : x * y"
   ]
  },
  {
   "cell_type": "code",
   "execution_count": 13,
   "metadata": {},
   "outputs": [
    {
     "data": {
      "text/plain": [
       "6"
      ]
     },
     "execution_count": 13,
     "metadata": {},
     "output_type": "execute_result"
    }
   ],
   "source": [
    "# Function validation \n",
    "multiply(2,3)"
   ]
  },
  {
   "cell_type": "markdown",
   "metadata": {},
   "source": [
    "Lambdas are particuarly useful when used as a means to return a function, as the output of another function. \n",
    "\n",
    "To consider this, below we have declared a function `multiplier` which takes `n` as an `int` input and returns a *function* which in turn will take a single input and return this value multiplied by `n`.  \n",
    "\n",
    "Using this function, create:\n",
    "\n",
    "1. a function which doubles its input parameter called `doubler`\n",
    "2. a function which triples its input parameter called `tripler`"
   ]
  },
  {
   "cell_type": "code",
   "execution_count": 4,
   "metadata": {},
   "outputs": [],
   "source": [
    "def multiplier(n):\n",
    "    return lambda a : a * n\n",
    "\n",
    "doubler = multiplier(2)\n",
    "tripler = multiplier(3)"
   ]
  },
  {
   "cell_type": "code",
   "execution_count": 5,
   "metadata": {},
   "outputs": [
    {
     "name": "stdout",
     "output_type": "stream",
     "text": [
      "6\n",
      "9\n"
     ]
    }
   ],
   "source": [
    "# Function validation\n",
    "print(doubler(3))\n",
    "print(tripler(3))"
   ]
  },
  {
   "cell_type": "markdown",
   "metadata": {},
   "source": [
    "## Challenge 1 - Get Score"
   ]
  },
  {
   "cell_type": "markdown",
   "metadata": {},
   "source": [
    "A new scoring system was introduced in your university: from now on, each test will consist of the predefined list of questions, and for the $i^{th}$ (1-based) question a student either gets $i$ points, or loses $p$ points as a penalty.\n",
    "\n",
    "Your task is to calculate the number of points a student got for some test. Implement a function called `getPoints` that would calculate the number of points received for the test based on the given list of answers.\n",
    "\n",
    "Function arguments: \n",
    "`answers` - A 1-D array of `Boolean` values representing a given student's answers. \n",
    "`p` - An `int` value indicating the penalty for the given assessment.\n",
    "\n",
    "***Example:***\n",
    "\n",
    "For `answers = [true, true, false, true]` and `p = 2`, the output should be `getPoints(answers, p) = 5`.\n",
    "\n",
    "Here's why: $1 + 2 - 2 + 4 = 5$.\n",
    "\n",
    "Input/Output:\n",
    "\n",
    "* [time limit] 4000ms (py)\n",
    "\n",
    "* [input] array.boolean answers Array of student's answers. answers[i] is true if the student answered the (i + 1)th question correctly, and false otherwise.\n",
    "\n",
    "Guaranteed constraints:\n",
    "1 ≤ answers.length ≤ 20.\n",
    "\n",
    "* [input] integer p The number of points subtracted from the final score for each incorrect result.\n",
    "\n",
    "Guaranteed constraints:\n",
    "0 ≤ p ≤ 10.\n",
    "\n",
    "* [output] integer The number of points the student received for the test. \n",
    "\n"
   ]
  },
  {
   "cell_type": "code",
   "execution_count": 6,
   "metadata": {},
   "outputs": [],
   "source": [
    "def getPoints(answers, p):\n",
    "    points =0\n",
    "    n =1\n",
    "    for i in answers:\n",
    "        if i == True:\n",
    "            points+=n\n",
    "        else:\n",
    "            points-=p\n",
    "        n+=1\n",
    "    return points\n",
    "    "
   ]
  },
  {
   "cell_type": "code",
   "execution_count": 7,
   "metadata": {},
   "outputs": [
    {
     "name": "stdout",
     "output_type": "stream",
     "text": [
      "15\n"
     ]
    }
   ],
   "source": [
    "answers = [True, True, True, True, True]\n",
    "p = 10\n",
    "print (getPoints(answers, p))"
   ]
  },
  {
   "cell_type": "markdown",
   "metadata": {},
   "source": [
    "Expected output:\n",
    "\n",
    "```python\n",
    "getPoints([False], 2) == -2\n",
    "getPoints([False,True], 0) == 0\n",
    "getPoints([True, True, True, True, True], 10) == 15\n",
    "getPoints([True, True, True, False, True], 10) == 1\n",
    "```"
   ]
  },
  {
   "cell_type": "markdown",
   "metadata": {},
   "source": [
    "## Challenge 2 - Sort Students"
   ]
  },
  {
   "cell_type": "markdown",
   "metadata": {},
   "source": [
    "You are given a list of students who want to apply to the internship at EXPLORE. For the $i^{th}$ student you know their full name, which can consist of up to 5 words (where a word is a set of consecutive letters). It is guaranteed that the surname is always the last name of student's full name.\n",
    "\n",
    "Your task is to use Python's native `sort` method, to arrange the students [lexicographically](https://en.wikipedia.org/wiki/Lexicographical_order) by their surnames. If two students happen to have the same surname, their order in the result should be the same as in the original list.\n",
    "\n",
    "Call your function `sortStudents`, which should return the input list in a sorted manner. \n",
    "\n",
    "Function arguments: \n",
    "`students` - A 1-D `list` containing `string` elements representing student names. Each element is no more than 5 words long.\n",
    "\n",
    "***Example:***\n",
    "\n",
    "For\n",
    "```python\n",
    "students = [\"John Smith\", \"Jacky Mon Simonoff\", \"Lucy Smith\", \"Angela Zimonova\"]\n",
    "```\n",
    "the output should be\n",
    "\n",
    "```python\n",
    "sortStudents(students) = [\"Jacky Mon Simonoff\", \"John Smith\", \"Lucy Smith\", \"Angela Zimonova\"]\n",
    "```\n",
    "\n",
    "Input/Output\n",
    "\n",
    "* [time limit] 4000ms (py)\n",
    "\n",
    "* [input] array.string students Array of students, where each student is given by their full name consisting of at most 5 words. For each i students[i] consists of English letters and whitespace (' ') characters.\n",
    "\n",
    "Guaranteed constraints:\n",
    "\n",
    "1 ≤ students.length ≤ 30,\n",
    "1 ≤ students[i].length ≤ 50.\n",
    "\n",
    "* [output] array.string Array of students sorted as described above.\n"
   ]
  },
  {
   "cell_type": "code",
   "execution_count": 8,
   "metadata": {},
   "outputs": [],
   "source": [
    "def sortStudents(students):\n",
    "    return sorted(students, key=lambda x: x.split(\" \")[-1])"
   ]
  },
  {
   "cell_type": "code",
   "execution_count": 9,
   "metadata": {},
   "outputs": [
    {
     "name": "stdout",
     "output_type": "stream",
     "text": [
      "['Museagret Browngrog', 'Gragrinelynn Chainbasher', 'Massuginn Dragonbrewer', 'Krathoun Flatbuster', 'Groodgratelin Magmabuckle', 'Orimir Rubyheart', 'Barirud Treasureforged']\n"
     ]
    }
   ],
   "source": [
    "# students = [\"Massuginn Dragonbrewer\", \n",
    "#               \"Gragrinelynn Chainbasher\", \n",
    "#               \"Barirud Treasureforged\", \n",
    "#               \"Orimir Rubyheart\", \n",
    "#               \"Krathoun Flatbuster\", \n",
    "#               \"Museagret Browngrog\", \n",
    "#               \"Groodgratelin Magmabuckle\"]\n",
    "# print(sortStudents(students))"
   ]
  },
  {
   "cell_type": "markdown",
   "metadata": {},
   "source": [
    "Expected output:\n",
    "\n",
    "```python\n",
    "sortStudents(['Kate']) == ['Kate']\n",
    "sortStudents([\"John Doe\", \"Brick Tick\", \"Batman\"]) == [\"Batman\", \"John Doe\", \"Brick Tick\"]\n",
    "sortStudents([\"Massuginn Dragonbrewer\", \n",
    "              \"Gragrinelynn Chainbasher\", \n",
    "              \"Barirud Treasureforged\", \n",
    "              \"Orimir Rubyheart\", \n",
    "              \"Krathoun Flatbuster\", \n",
    "              \"Museagret Browngrog\", \n",
    "              \"Groodgratelin Magmabuckle\"]) == ['Museagret Browngrog', \n",
    "                                                'Gragrinelynn Chainbasher', \n",
    "                                                'Massuginn Dragonbrewer', \n",
    "                                                'Krathoun Flatbuster', \n",
    "                                                'Groodgratelin Magmabuckle', \n",
    "                                                'Orimir Rubyheart', \n",
    "                                                'Barirud Treasureforged']\n",
    "```"
   ]
  }
 ],
 "metadata": {
  "kernelspec": {
   "display_name": "Python 3",
   "language": "python",
   "name": "python3"
  },
  "language_info": {
   "codemirror_mode": {
    "name": "ipython",
    "version": 3
   },
   "file_extension": ".py",
   "mimetype": "text/x-python",
   "name": "python",
   "nbconvert_exporter": "python",
   "pygments_lexer": "ipython3",
   "version": "3.6.5"
  }
 },
 "nbformat": 4,
 "nbformat_minor": 2
}
