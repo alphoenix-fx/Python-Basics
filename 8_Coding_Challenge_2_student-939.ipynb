{
 "cells": [
  {
   "cell_type": "markdown",
   "metadata": {},
   "source": [
    "# Coding Challenge 2 - Lists"
   ]
  },
  {
   "cell_type": "markdown",
   "metadata": {},
   "source": [
    "### Question 1"
   ]
  },
  {
   "cell_type": "markdown",
   "metadata": {},
   "source": [
    "Given a one dimensional Python list of integers, calculate and return the difference between integers with the second largest value and the integers with the second smallest value. \n",
    "\n",
    "Assume that: \n",
    "1. the list contains two or more elements\n",
    "2. there are no repeated elements"
   ]
  },
  {
   "cell_type": "code",
   "execution_count": 11,
   "metadata": {},
   "outputs": [],
   "source": [
    "def difference(list1):\n",
    "    list1 = sorted(set(list1))\n",
    "    print(list1) # --> [1, 2, 5, 8, 10]\n",
    "    if list1[1] != list1[-2]:\n",
    "        return list1[-2] - list1[1]\n",
    "    else:\n",
    "        return 0"
   ]
  },
  {
   "cell_type": "code",
   "execution_count": 12,
   "metadata": {},
   "outputs": [
    {
     "name": "stdout",
     "output_type": "stream",
     "text": [
      "[1, 2, 5, 9, 13, 18]\n"
     ]
    },
    {
     "data": {
      "text/plain": [
       "11"
      ]
     },
     "execution_count": 12,
     "metadata": {},
     "output_type": "execute_result"
    }
   ],
   "source": [
    "difference([5,13,1,9,18,18,5,5,2,2,2])"
   ]
  },
  {
   "cell_type": "markdown",
   "metadata": {},
   "source": [
    "**Expected Outputs:**_\n",
    "```python\n",
    "difference([1,2]) == -1\n",
    "difference([1,2,3,4]) == 1\n",
    "difference([5,13,1,9,18]) == 8\n",
    "```"
   ]
  },
  {
   "cell_type": "markdown",
   "metadata": {},
   "source": [
    "### Question 2"
   ]
  },
  {
   "cell_type": "markdown",
   "metadata": {},
   "source": [
    "Write a function called `sum_list` that has the following parameters: \n",
    "1. `my list` which will take a two-dimensional list as its argument,\n",
    "2. `size` which will take an integer as its argument. \n",
    "\n",
    "Your function must loop over `mylist`, find each inner list of the length indicated by `size`, and only then sum all the elements in that list. \n",
    "\n",
    "Your function must return a list of these sums.\n",
    "\n",
    "**Example**\n",
    "If we pass this two dimensional list `[[1,3],[4,5,6,7],[8,10],[2,2]]` to `mylist` and this integer `2` to `size`\n",
    "then the function must calculate the sum of `[1,3]`, the sum of `[8,10]` and the sum of `[2,2]`, which is `4`, `18`, and `4` respectively, and return `[4,18,4]`."
   ]
  },
  {
   "cell_type": "code",
   "execution_count": 15,
   "metadata": {},
   "outputs": [],
   "source": [
    "def sum_list(lst,n):\n",
    "    newlist =[]\n",
    "    for i in lst:\n",
    "        if len(i) == n:\n",
    "            newlist.append(sum(i))\n",
    "    return newlist\n",
    "            \n",
    "        "
   ]
  },
  {
   "cell_type": "code",
   "execution_count": 17,
   "metadata": {},
   "outputs": [
    {
     "name": "stdout",
     "output_type": "stream",
     "text": [
      "[]\n"
     ]
    }
   ],
   "source": [
    "mylist = [[1,2,3],[4,5,6,7],[8,9,10]]\n",
    "print(sum_list(mylist, 2))"
   ]
  },
  {
   "cell_type": "markdown",
   "metadata": {},
   "source": [
    "_**Expected Outputs:**_\n",
    "```python\n",
    "sum_list([[1,2,3],[4,5,6,7],[8,9,10]], 3) == [6, 27]\n",
    "sum_list([[1,2,3],[4,5,6,7],[8,9,10]], 4) == [22]\n",
    "sum_list([[1,2,3],[4,5,6,7],[8,9,10]], 2) == []\n",
    "```"
   ]
  },
  {
   "cell_type": "markdown",
   "metadata": {},
   "source": [
    "### Question 3"
   ]
  },
  {
   "cell_type": "markdown",
   "metadata": {},
   "source": [
    "Write a function called `square_odd` that has one parameter. Your function must calculate the square of each _odd_ number in a list. This list is **NOT** a Python 3 list, but is a `String` sequence of comma-separated numbers e.g. `\"4,6,2\"`\n",
    "\n",
    "Return a Python 3 list containing the squared values \n",
    "\n",
    "**Challenge yourself:**\n",
    "Solve this problem with AND without using a list comprehension"
   ]
  },
  {
   "cell_type": "code",
   "execution_count": 40,
   "metadata": {},
   "outputs": [],
   "source": [
    "# Write your function here. Remember, it MUST be called square_odd and have one parameter\n",
    "def square_odd(string):\n",
    "    newlist1 = []\n",
    "    list_string = list(string.split(','))\n",
    "    print(list_string)\n",
    "    for i in list_string:\n",
    "        if int(i)%2 != 0:\n",
    "            newlist1.append(int(i)**2)\n",
    "            \n",
    "    return newlist1\n",
    "            \n",
    "        \n",
    "        "
   ]
  },
  {
   "cell_type": "code",
   "execution_count": 42,
   "metadata": {},
   "outputs": [
    {
     "name": "stdout",
     "output_type": "stream",
     "text": [
      "['1', '2', '3', '4']\n",
      "[1, 9]\n"
     ]
    }
   ],
   "source": [
    "print(square_odd(\"1,2,3,4\"))"
   ]
  },
  {
   "cell_type": "markdown",
   "metadata": {},
   "source": [
    "_**Expected Outputs:**_\n",
    "```python\n",
    "square_odd(\"1,2,3,4\") == [1, 9]\n",
    "square_odd(\"5,5,2,1\") == [25, 25, 1]\n",
    "square_odd(\"4,6,2\") == []\n",
    "```"
   ]
  }
 ],
 "metadata": {
  "kernelspec": {
   "display_name": "Python 3",
   "language": "python",
   "name": "python3"
  },
  "language_info": {
   "codemirror_mode": {
    "name": "ipython",
    "version": 3
   },
   "file_extension": ".py",
   "mimetype": "text/x-python",
   "name": "python",
   "nbconvert_exporter": "python",
   "pygments_lexer": "ipython3",
   "version": "3.6.5"
  },
  "toc": {
   "base_numbering": 1,
   "nav_menu": {},
   "number_sections": true,
   "sideBar": true,
   "skip_h1_title": false,
   "title_cell": "Table of Contents",
   "title_sidebar": "Contents",
   "toc_cell": false,
   "toc_position": {},
   "toc_section_display": true,
   "toc_window_display": false
  }
 },
 "nbformat": 4,
 "nbformat_minor": 2
}
