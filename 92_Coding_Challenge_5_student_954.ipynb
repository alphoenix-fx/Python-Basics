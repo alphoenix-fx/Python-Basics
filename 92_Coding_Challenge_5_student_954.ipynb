{
  "nbformat": 4,
  "nbformat_minor": 0,
  "metadata": {
    "colab": {
      "name": "Coding_Challenge_5_student-954.ipynb",
      "version": "0.3.2",
      "provenance": [],
      "collapsed_sections": [],
      "include_colab_link": true
    },
    "language_info": {
      "codemirror_mode": {
        "name": "ipython",
        "version": 3
      },
      "file_extension": ".py",
      "mimetype": "text/x-python",
      "name": "python",
      "nbconvert_exporter": "python",
      "pygments_lexer": "ipython3",
      "version": "3.6.5"
    },
    "kernelspec": {
      "display_name": "Python 3",
      "language": "python",
      "name": "python3"
    }
  },
  "cells": [
    {
      "cell_type": "markdown",
      "metadata": {
        "id": "view-in-github",
        "colab_type": "text"
      },
      "source": [
        "<a href=\"https://colab.research.google.com/github/alphoenixbiz/Python-Basics/blob/master/92_Coding_Challenge_5_student_954.ipynb\" target=\"_parent\"><img src=\"https://colab.research.google.com/assets/colab-badge.svg\" alt=\"Open In Colab\"/></a>"
      ]
    },
    {
      "metadata": {
        "id": "mnTyzCBD3cYw",
        "colab_type": "text"
      },
      "cell_type": "markdown",
      "source": [
        "# Python Bootcamp: Coding Challenge 5 - Numpy"
      ]
    },
    {
      "metadata": {
        "id": "NQENI2n03cYx",
        "colab_type": "code",
        "colab": {}
      },
      "cell_type": "code",
      "source": [
        "#RUN THIS CELL!\n",
        "import numpy as np"
      ],
      "execution_count": 0,
      "outputs": []
    },
    {
      "metadata": {
        "id": "ySu1517i3cY2",
        "colab_type": "text"
      },
      "cell_type": "markdown",
      "source": [
        "### Question 1\n",
        "\n",
        "#### Indexed Square Matrix in numpy"
      ]
    },
    {
      "metadata": {
        "id": "xx7q65Zt3cY3",
        "colab_type": "text"
      },
      "cell_type": "markdown",
      "source": [
        "You've been programming for so long, you feel as though you're eyes are going square. To make matters worse, your friendly mentor asks you to write some code to generate variable-sized square matracies as part of a new linear-algebra library they are creating. To help troubleshoot the library's methods, the matrix is required to be [row-major](https://en.wikipedia.org/wiki/Row-_and_column-major_order) indexed; with the first entry of the matrix being equal to `1`, the second entry being equal to `2`, and so on. \n",
        "\n",
        "***Task:*** create a function called `square_matrix` which takes in an integer argument `n` and produces a Python `list` formatted as an $n \\times n$ square matrix whose entry values are equal to their order within a raw-major indexing of the matrix.\n",
        "\n",
        "Function arguments: `n` - An `int` specifying the number of rows and columns within the produced square matrix. The resulting matrix has $n \\times n$ entries within it. $n \\ge 0$\n",
        "\n",
        "Your function must return the matrix as a Python list. ***Note:*** the use of external libraries (such as `Numpy`) is not permitted within this question.\n",
        "\n",
        "***Example:*** \n",
        "\n",
        "```python\n",
        "square_matrix(3) == [[1, 2, 3], \n",
        "                     [4, 5, 6], \n",
        "                     [7, 8, 9]]\n",
        "```\n",
        "Here `n = 3`. The resulting matrix has $3$ rows and $3$ columns and a total of $3 \\times 3 = 9$ elements. Row-major indexing considers the elements within each row first, causing the values to be assigned from a left-to-right, top-to-bottom order. "
      ]
    },
    {
      "metadata": {
        "id": "Iy_T7QUa3cY4",
        "colab_type": "code",
        "colab": {}
      },
      "cell_type": "code",
      "source": [
        "# Write your function here\n",
        "def square_matrix(n):\n",
        "        matrix=[row[:] for row in [[0]*n]*n]\n",
        "        if n<=0:\n",
        "            return np.full((0,0),0)\n",
        "\n",
        "        \n",
        "        \n",
        "        row_st=0\n",
        "        row_ed=n-1\n",
        "        \n",
        "        col_st=0\n",
        "        col_ed=n-1\n",
        "        current=1\n",
        "        \n",
        "        while (True):\n",
        "            if current>n*n:\n",
        "                break\n",
        "            for c in range (col_st, col_ed+1):\n",
        "                matrix[row_st][c]=current\n",
        "                current+=1\n",
        "            row_st+=1\n",
        "          \n",
        "            \n",
        "          \n",
        "        return np.array(matrix)\n"
      ],
      "execution_count": 0,
      "outputs": []
    },
    {
      "metadata": {
        "id": "qoLKGzrO3cY9",
        "colab_type": "code",
        "colab": {
          "base_uri": "https://localhost:8080/",
          "height": 34
        },
        "outputId": "da29b7bd-4cb5-43d5-c683-eeaaf93ce398"
      },
      "cell_type": "code",
      "source": [
        "n = 0\n",
        "square_matrix(n) "
      ],
      "execution_count": 89,
      "outputs": [
        {
          "output_type": "execute_result",
          "data": {
            "text/plain": [
              "array([], shape=(0, 0), dtype=int64)"
            ]
          },
          "metadata": {
            "tags": []
          },
          "execution_count": 89
        }
      ]
    },
    {
      "metadata": {
        "id": "vCbeneEJ3cZD",
        "colab_type": "text"
      },
      "cell_type": "markdown",
      "source": [
        "_**Expected Outputs:**_\n",
        "```python\n",
        "square_matrix(1) Should give array([[1]])\n",
        "\n",
        "square_matrix(5) should give array([[1, 2, 3, 4, 5],\n",
        "                    [6, 7, 8, 9, 10],\n",
        "                    [11, 12, 13, 14, 15],\n",
        "                    [16, 17, 18, 19, 20],\n",
        "                    [21, 22, 23, 24, 25]])\n",
        "\n",
        "square_matrix(10) should give array([[1, 2, 3, 4, 5, 6, 7, 8, 9, 10],\n",
        "                     [11, 12, 13, 14, 15, 16, 17, 18, 19, 20],\n",
        "                     [21, 22, 23, 24, 25, 26, 27, 28, 29, 30],\n",
        "                     [31, 32, 33, 34, 35, 36, 37, 38, 39, 40],\n",
        "                     [41, 42, 43, 44, 45, 46, 47, 48, 49, 50],\n",
        "                     [51, 52, 53, 54, 55, 56, 57, 58, 59, 60],\n",
        "                     [61, 62, 63, 64, 65, 66, 67, 68, 69, 70],\n",
        "                     [71, 72, 73, 74, 75, 76, 77, 78, 79, 80],\n",
        "                     [81, 82, 83, 84, 85, 86, 87, 88, 89, 90],\n",
        "                     [91, 92, 93, 94, 95, 96, 97, 98, 99, 100]])\n",
        "```"
      ]
    },
    {
      "metadata": {
        "id": "DxIzkUdZ3cZE",
        "colab_type": "text"
      },
      "cell_type": "markdown",
      "source": [
        "### Question 2\n",
        "\n",
        "#### Finding the Sum of a Symmetrical Sub-List  "
      ]
    },
    {
      "metadata": {
        "id": "h7eSj1Vu3cZE",
        "colab_type": "text"
      },
      "cell_type": "markdown",
      "source": [
        "Write a function called `custom_function` that has 2 parameters `x` and `y`, which calculates the following math equation and round your answer to 2 decimal places.\n",
        "\n",
        "\\begin{equation}\n",
        " z = \\frac{\\pi e^{x^2}}{4y}\n",
        "\\end{equation}\n",
        "\n",
        "_**Function Specifications:**_\n",
        "* The input variables `x` and `y` are single values (that is, not a `list`/`array`)\n",
        "* If a division by zero occurs, raise a `ValueError`.\n",
        "* Output should be rounded to 2 decimal places."
      ]
    },
    {
      "metadata": {
        "id": "u1dMVsvN3cZF",
        "colab_type": "code",
        "colab": {}
      },
      "cell_type": "code",
      "source": [
        "# Write your function here\n",
        "def custom_function(x,y):\n",
        "    if(y ==0):\n",
        "        return (0.0, [])\n",
        "    z = np.pi*np.e**x**2/(4*y)\n",
        "    \n",
        "    return round(z,2)"
      ],
      "execution_count": 0,
      "outputs": []
    },
    {
      "metadata": {
        "id": "Y04ts9dP3cZI",
        "colab_type": "text"
      },
      "cell_type": "markdown",
      "source": [
        "_**Expected Outputs:**_\n",
        "```python\n",
        "custom_function(0.5, 7) == 0.14\n",
        "custom_function(0.5,0.01) == 100.85\n",
        "custom_function(0.1,0.3) == 2.64\n",
        "```"
      ]
    },
    {
      "metadata": {
        "id": "s-24Hs-G3cZJ",
        "colab_type": "text"
      },
      "cell_type": "markdown",
      "source": [
        "### Question 3"
      ]
    },
    {
      "metadata": {
        "id": "jvyFotHE3cZK",
        "colab_type": "text"
      },
      "cell_type": "markdown",
      "source": [
        "Write a function called `axis_maxis` that takes a NumPy array as an argument, uses NumPy to get the minimum and maximum value of a given NumPy array. Your function must return a tuple in the form `(min, max)`"
      ]
    },
    {
      "metadata": {
        "id": "JUYC2rdf3cZL",
        "colab_type": "code",
        "colab": {}
      },
      "cell_type": "code",
      "source": [
        "# Write your function here\n",
        "def axis_maxis(arr):\n",
        "    if len(arr) ==0:\n",
        "      return (0,0)\n",
        "    else:\n",
        "      return (np.min(arr), np.max(arr))"
      ],
      "execution_count": 0,
      "outputs": []
    },
    {
      "metadata": {
        "id": "-N6zzuve3cZN",
        "colab_type": "text"
      },
      "cell_type": "markdown",
      "source": [
        "_**Expected Outputs:**_\n",
        "\n",
        "For \n",
        "```\n",
        "x = array([[98,  0, 97, 12],\n",
        "           [98, 26, 50, 73],\n",
        "           [62, 27, 86, 40],\n",
        "           [47, 58, 93, 15]])\n",
        "```\n",
        "axis_maxis(x) should return `(0,98)`\n",
        "___\n",
        "\n",
        "For \n",
        "```\n",
        "x = array([[92 39 83 40 32 98 22 74]\n",
        "           [83 55 28 44 18 16 86 70]\n",
        "           [ 9 34 25 65 79  4 66 95]])\n",
        "```\n",
        "axis_maxis(x) should return `(4, 98)`"
      ]
    },
    {
      "metadata": {
        "id": "2LM3dUDB3cZO",
        "colab_type": "text"
      },
      "cell_type": "markdown",
      "source": [
        "### Question 4"
      ]
    },
    {
      "metadata": {
        "id": "7v11FIqY3cZP",
        "colab_type": "text"
      },
      "cell_type": "markdown",
      "source": [
        "Write a function called `descriptive`that takes a NumPy array, and an integer called `axis` as arguments. This integer represents the axis of the array. and uses NumPy functions to compute the mean, standard deviation, and variance of a given array along the given axis. Your function must return a tuple in the form `(mean, std, var)`"
      ]
    },
    {
      "metadata": {
        "id": "-gbspqF93cZQ",
        "colab_type": "code",
        "colab": {}
      },
      "cell_type": "code",
      "source": [
        "# Write your function here\n",
        "def descriptive(x,y):\n",
        "\n",
        "    if isinstance(x, list) == False:\n",
        "        raise TypeError('Error')\n",
        "    elif len(x) <= 1:\n",
        "        return (np.array([]),np.array([]),np.array([]))\n",
        "        \n",
        "    x = np.array(x)\n",
        "    if len(x.shape) == 1: \n",
        "        return (\n",
        "        np.mean(x, axis=y),\n",
        "        np.std(x,axis=y),\n",
        "         np.var(x, axis=y)\n",
        "        )\n",
        "    else:\n",
        "        return (\n",
        "        np.mean(x, axis=y),\n",
        "        np.std(x,axis=y),\n",
        "         np.var(x, axis=y)\n",
        "        )\n",
        "    \n",
        "  "
      ],
      "execution_count": 0,
      "outputs": []
    },
    {
      "metadata": {
        "id": "sD4rBcbD3cZU",
        "colab_type": "text"
      },
      "cell_type": "markdown",
      "source": [
        "_**Expected Outputs:**_\n",
        "\n",
        "For \n",
        "```\n",
        "x = array([[85 70]\n",
        "           [38 22]])\n",
        "```\n",
        "`descriptive(x,0)` should return `(array([61.5, 46. ]), array([23.5, 24. ]), array([552.25, 576.  ]))`\n",
        "\n",
        "and\n",
        "\n",
        "`descriptive(x,1)` should return `(array([77.5, 30. ]), array([7.5, 8. ]), array([56.25, 64.  ]))`\n",
        "___\n",
        "\n",
        "For \n",
        "```\n",
        "x = array([89 70 39 51 65])\n",
        "```\n",
        "`descriptive(x,0)` should return `(62.8, 17.02233826476257, 289.76)`\n",
        "\n",
        "and\n",
        "\n",
        "`descriptive(x,1)` should return an `IndexError`"
      ]
    }
  ]
}