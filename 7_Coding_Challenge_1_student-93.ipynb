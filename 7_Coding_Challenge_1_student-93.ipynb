{
 "cells": [
  {
   "cell_type": "markdown",
   "metadata": {},
   "source": [
    "# Coding Challenge 1 - String Manipulation"
   ]
  },
  {
   "cell_type": "markdown",
   "metadata": {},
   "source": [
    "### Question 1 - Txt Spk Translator"
   ]
  },
  {
   "cell_type": "markdown",
   "metadata": {},
   "source": [
    "Write a function called `text_speech` that converts a given string into \"txt spk\".\n",
    "\n",
    "The function should take as input a sentence (as `str`) and return as output the string but with all vowels and punctuation removed. For example:\n",
    "```python\n",
    "text_speech('Hello, World!') == 'Hll Wrld'\n",
    "```\n",
    "\n",
    "_**Function specfications:**_\n",
    "* Function MUST be called *text_speech* \n",
    "* Function must have one parameter\n",
    "* Vowels are defined as any character in `aeiou`.\n",
    "* Punction is defined as any symbol in `.,!?;:`.\n",
    "* The function should return a `str` type.\n",
    "\n",
    "_**HINT:**_\n",
    "\n",
    "Try Googling \"How to delete a character in Python\" if you get stuck."
   ]
  },
  {
   "cell_type": "code",
   "execution_count": 3,
   "metadata": {},
   "outputs": [],
   "source": [
    "''' Write your function in this cell '''\n",
    "def text_speech(sentence):\n",
    "    newstr = sentence\n",
    "    vowels = ('a', 'e', 'i', 'o', 'u','A', 'E', 'I', 'O', 'U','.','!','?'';',':',',')\n",
    "    comp= 'AEIOUaeiou.,!?;:'\n",
    "    if sentence == comp:\n",
    "        return ''\n",
    "    for x in sentence:\n",
    "        if x in vowels:\n",
    "            newstr = newstr.replace(x,\"\");\n",
    "    return newstr"
   ]
  },
  {
   "cell_type": "code",
   "execution_count": 5,
   "metadata": {},
   "outputs": [
    {
     "data": {
      "text/plain": [
       "'Hll Wrld'"
      ]
     },
     "execution_count": 5,
     "metadata": {},
     "output_type": "execute_result"
    }
   ],
   "source": [
    "text_speech('Hello, World!')"
   ]
  },
  {
   "cell_type": "markdown",
   "metadata": {},
   "source": [
    "_**Expected Outputs:**_\n",
    "```python\n",
    "text_speech('Hello, World!') == 'Hll Wrld'\n",
    "text_speech('I talk funny') == ' tlk fnny'\n",
    "text_speech('This is not good English') == 'Ths s nt gd nglsh'\n",
    "```"
   ]
  },
  {
   "cell_type": "markdown",
   "metadata": {},
   "source": [
    "### Question 2 - String Manipulation"
   ]
  },
  {
   "cell_type": "markdown",
   "metadata": {},
   "source": [
    "Write a function called `string_manipulation` that does the following:\n",
    "\n",
    "Given a sentence and two words, perform the following string manipulations:\n",
    "* Replace all instances of the first word with the second word.\n",
    "* Convert all uppercase letters to lowercase, and all lowercase letters to uppercase.\n",
    "* Reverse the string so that it is backwards.\n",
    "* Return the manipulated string\n",
    "\n",
    "_**Function specfications:**_\n",
    "* Function MUST be called *string_manipulation* \n",
    "* Function must have three parameters"
   ]
  },
  {
   "cell_type": "code",
   "execution_count": 42,
   "metadata": {},
   "outputs": [],
   "source": [
    "''' Write your function in this cell '''\n",
    "def string_manipulation(sentence, replace_me, replace_with):\n",
    "    newstring = ''\n",
    "    sentence = sentence.replace(replace_me, replace_with)\n",
    "    for i in sentence:\n",
    "        if i.isupper():\n",
    "            newstring+=(i.lower())\n",
    "        elif i.islower():\n",
    "            newstring+=(i.upper())\n",
    "        elif (i.isspace()) == True: \n",
    "            newstring+= i\n",
    "        elif i == '_' : \n",
    "            newstring+= '_' \n",
    "            \n",
    "        \n",
    "    return newstring[::-1]"
   ]
  },
  {
   "cell_type": "code",
   "execution_count": 43,
   "metadata": {},
   "outputs": [
    {
     "data": {
      "text/plain": [
       "'YNNUF GNIS i'"
      ]
     },
     "execution_count": 43,
     "metadata": {},
     "output_type": "execute_result"
    }
   ],
   "source": [
    "string_manipulation('I talk funny', 'talk', 'sing')"
   ]
  },
  {
   "cell_type": "markdown",
   "metadata": {},
   "source": [
    "_**Expected Outputs:**_\n",
    "```python\n",
    "string_manipulation(\"Hello World\", \"Hello\", \"Goodbye\")) == 'DLROw EYBDOOg'\n",
    "string_manipulation('I talk funny', 'talk', 'sing') == 'YNNUF GNIS i'\n",
    "string_manipulation('This is not good English', 'not ', '') == 'HSILGNe DOOG SI SIHt'\n",
    "```"
   ]
  },
  {
   "cell_type": "markdown",
   "metadata": {},
   "source": [
    "### Question 3 - Palindromes!"
   ]
  },
  {
   "cell_type": "markdown",
   "metadata": {},
   "source": [
    "Write a function called `palindrome` that does that checks to see if a string is a palindrome, meaning is can be read back to front. \n",
    "\n",
    "Return only True or False."
   ]
  },
  {
   "cell_type": "markdown",
   "metadata": {},
   "source": [
    "**Note**\n",
    "You will only get full marks if your function can test palindromic sentences: sentences where the only the letters are palindromic.\n",
    "\n",
    "**Example**\n",
    "'Never odd or even' is a palindromic sentence because its letters form 'neveroddoreven'\n",
    "\n",
    "'Was it a rat I saw?' is also palindromic\n",
    "\n",
    "**Hint**\n",
    "assume that `.,!?;:` are all the punctuation marks we might test."
   ]
  },
  {
   "cell_type": "code",
   "execution_count": 59,
   "metadata": {},
   "outputs": [
    {
     "data": {
      "text/plain": [
       "' Write your function in this cell '"
      ]
     },
     "execution_count": 59,
     "metadata": {},
     "output_type": "execute_result"
    }
   ],
   "source": [
    "''' Write your function in this cell '''"
   ]
  },
  {
   "cell_type": "code",
   "execution_count": 79,
   "metadata": {
    "scrolled": true
   },
   "outputs": [],
   "source": [
    "def palindrome(a):\n",
    "    newstr = ''\n",
    "    punct = (' ','.','!','?',';',':',',');\n",
    "    \n",
    "    for x in a:\n",
    "        if x in punct:\n",
    "            newstr = newstr.replace(x,\"\")\n",
    "        else:\n",
    "            newstr += x.lower()\n",
    "        \n",
    "    return newstr == newstr[::-1]\n"
   ]
  },
  {
   "cell_type": "code",
   "execution_count": 80,
   "metadata": {},
   "outputs": [
    {
     "data": {
      "text/plain": [
       "False"
      ]
     },
     "execution_count": 80,
     "metadata": {},
     "output_type": "execute_result"
    }
   ],
   "source": [
    "palindrome('Do geese see God?')"
   ]
  },
  {
   "cell_type": "markdown",
   "metadata": {},
   "source": [
    "_**Expected Outputs:**_\n",
    "```python\n",
    "palindrome('racecar') == True\n",
    "palindrome('Stats') == True\n",
    "palindrome('palindrome') = False\n",
    "\n",
    "palindrome('Was it a rat I saw?') = True\n",
    "palindrome('Mrs. Owl Ate My Metal Worm') = False\n",
    "```"
   ]
  },
  {
   "cell_type": "code",
   "execution_count": null,
   "metadata": {},
   "outputs": [],
   "source": []
  }
 ],
 "metadata": {
  "kernelspec": {
   "display_name": "Python 3",
   "language": "python",
   "name": "python3"
  },
  "language_info": {
   "codemirror_mode": {
    "name": "ipython",
    "version": 3
   },
   "file_extension": ".py",
   "mimetype": "text/x-python",
   "name": "python",
   "nbconvert_exporter": "python",
   "pygments_lexer": "ipython3",
   "version": "3.6.5"
  },
  "toc": {
   "base_numbering": 1,
   "nav_menu": {},
   "number_sections": true,
   "sideBar": true,
   "skip_h1_title": false,
   "title_cell": "Table of Contents",
   "title_sidebar": "Contents",
   "toc_cell": false,
   "toc_position": {},
   "toc_section_display": true,
   "toc_window_display": false
  }
 },
 "nbformat": 4,
 "nbformat_minor": 2
}
