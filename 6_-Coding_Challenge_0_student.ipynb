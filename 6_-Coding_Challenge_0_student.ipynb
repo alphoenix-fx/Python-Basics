{
 "cells": [
  {
   "cell_type": "markdown",
   "metadata": {},
   "source": [
    "# Coding Challenge 0 - Chars and Strings"
   ]
  },
  {
   "cell_type": "markdown",
   "metadata": {},
   "source": [
    "## Challenge 1 - Print something!"
   ]
  },
  {
   "cell_type": "markdown",
   "metadata": {},
   "source": [
    "Complete this function called `printer` below. `printer` has no parameters. It must **print** the string `Molo, Lizwe` to the console. "
   ]
  },
  {
   "cell_type": "code",
   "execution_count": 3,
   "metadata": {},
   "outputs": [
    {
     "name": "stdout",
     "output_type": "stream",
     "text": [
      "Molo, Lizwe\n"
     ]
    }
   ],
   "source": [
    "def printer():\n",
    "    print('Molo, Lizwe')\n",
    "printer()"
   ]
  },
  {
   "cell_type": "markdown",
   "metadata": {},
   "source": [
    "## Challenge 2 - Print an Ascii fish!"
   ]
  },
  {
   "cell_type": "markdown",
   "metadata": {},
   "source": [
    "Complete the function called `flounder` below. `flounder` has no parameters. It must **print** the following ascii image to the console:"
   ]
  },
  {
   "cell_type": "markdown",
   "metadata": {},
   "source": [
    "You can use this grid to help you construct your string(s).\n",
    "![ascii_flounder](https://github.com/Explore-AI/Public-Data/blob/master/ascii_flounder.png?raw=TRUE)"
   ]
  },
  {
   "cell_type": "markdown",
   "metadata": {},
   "source": [
    "Ascii image <a href=\"https://www.asciiart.eu/movies/little-mermaid\">by Joan Stark</a>"
   ]
  },
  {
   "cell_type": "markdown",
   "metadata": {},
   "source": [
    "**HINTS**\n",
    "1. Remember your escape characters for the more troublesome punctuation, like single and double quotation marks\n",
    "2. There are many ways to do this; line-by-line, all at once, with variables... whatever! \n",
    "3. Have fun"
   ]
  },
  {
   "cell_type": "code",
   "execution_count": 17,
   "metadata": {},
   "outputs": [
    {
     "name": "stdout",
     "output_type": "stream",
     "text": [
      "12\\6=2\n"
     ]
    }
   ],
   "source": [
    "print('12\\\\6=2')"
   ]
  },
  {
   "cell_type": "code",
   "execution_count": 22,
   "metadata": {},
   "outputs": [
    {
     "name": "stdout",
     "output_type": "stream",
     "text": [
      "    , __\n",
      "    \\`\\\\'._     _,\n",
      "    / _  |||;._/ )\n",
      " _ /@ @  ///  | (\n",
      "( (`__,     ,`\\|\n",
      " '.\\_/ |\\_.'\n",
      "   `\"\"```\n"
     ]
    }
   ],
   "source": [
    "def flounder():\n",
    "    print('    , __')\n",
    "    print(\"    \\`\\\\\\\\'._     _,\")\n",
    "    print('    / _  |||;._/ )')\n",
    "    print(' _ /@ @  ///  | (')\n",
    "    print('( (`__,     ,`\\|')\n",
    "    print(\" '.\\_/ |\\_.'\")\n",
    "    print('   `\"\"```')\n",
    "flounder()"
   ]
  },
  {
   "cell_type": "markdown",
   "metadata": {},
   "source": [
    "### Challenge 3 - snake_case"
   ]
  },
  {
   "cell_type": "markdown",
   "metadata": {},
   "source": [
    "In programming we talk about naming conventions such as <a href=\"https://en.wikipedia.org/wiki/Snake_case\">snake_case</a>.\n",
    "\n",
    "Often, when working with other people's code or databases, they have not use consistent naming convention.  "
   ]
  },
  {
   "cell_type": "markdown",
   "metadata": {},
   "source": [
    "Write a function called `snake_case` that takes one string as an argument and returns a string in snake case. The input string (argument) will always be a string that is least one word, and be made up of only alphabet characters"
   ]
  },
  {
   "cell_type": "code",
   "execution_count": 27,
   "metadata": {},
   "outputs": [],
   "source": [
    "# Write your function here. It MUST be called snake_case, and it MUST have one parameter.\n",
    "def snake_case(the_string):\n",
    "        return the_string.replace(\" \", '_').lower()"
   ]
  },
  {
   "cell_type": "code",
   "execution_count": 28,
   "metadata": {},
   "outputs": [
    {
     "data": {
      "text/plain": [
       "'dams_location_id_number'"
      ]
     },
     "execution_count": 28,
     "metadata": {},
     "output_type": "execute_result"
    }
   ],
   "source": [
    "snake_case('daMs Location id_NumBeR')"
   ]
  },
  {
   "cell_type": "markdown",
   "metadata": {},
   "source": [
    "_**Expected Outputs:**_\n",
    "```Python\n",
    "snake_case(\"Dams\") == 'dams'\n",
    "snake_case(\"weather station\") == 'weather_station'\n",
    "snake_case(\"DAMS LOCATION ID NUMBER\") == 'dams_location_id_number'\n",
    "```"
   ]
  },
  {
   "cell_type": "markdown",
   "metadata": {},
   "source": [
    "### Challenge 4 - Mad Spams"
   ]
  },
  {
   "cell_type": "markdown",
   "metadata": {},
   "source": [
    "Write a function called `spammer` that has 3 parameters. This function must automatically fill the following text to generate a \"personalized\" spam email. Your function must return the email as a **single string**"
   ]
  },
  {
   "cell_type": "markdown",
   "metadata": {},
   "source": [
    "> Dear __[name]__\n",
    ">\n",
    "> We would like to let you know about our Warming Easter Offer: Get 30% Discount on All __[productName]__ Products!\n",
    ">\n",
    "> Your family will have a blast with our new __[productName]__ Package!\n",
    ">\n",
    "> So call us now on __[contact]__\n",
    ">\n",
    "> Have a great Easter weekend, __[name]__!"
   ]
  },
  {
   "cell_type": "markdown",
   "metadata": {},
   "source": [
    "_**Expected Outputs:**_\n",
    "\n",
    "_The function call_\n",
    "```Python\n",
    "spammer(\"John\", \"ExamCollection\", \"555-4213\")\n",
    "```\n",
    "_must return_\n",
    "> Dear John\n",
    "> \n",
    "> We would like to let you know about our Warming Easter Offer: Get 30% Discount on All ExamCollection Products!\n",
    ">\n",
    "> Your family will have a blast with our new ExamCollection Package!\n",
    ">\n",
    "> So call us now on 555-4213 \n",
    "> \n",
    "> Have a great Easter weekend, John!"
   ]
  },
  {
   "cell_type": "markdown",
   "metadata": {},
   "source": [
    "_The function call_\n",
    "```Python\n",
    "spammer(\"SLODIA&)\", \"9999999999999\", \"#*&%\")\n",
    "```\n",
    "_must return_\n",
    "> Dear SLODIA&)\n",
    "> \n",
    "> We would like to let you know about our Warming Easter Offer: Get 30% Discount on All 9999999999999 Products!\n",
    ">\n",
    "> Your family will have a blast with our new 9999999999999 Package!\n",
    ">\n",
    "> So call us now on #*&% \n",
    ">\n",
    ">Have a great Easter weekend, SLODIA&)!"
   ]
  },
  {
   "cell_type": "markdown",
   "metadata": {},
   "source": [
    "**HINTS**\n",
    "There are many ways to solve this problem and none are more correct than the others. You could\n",
    "1. build a string using the `+` operator\n",
    "2. use multiple `print` arguments\n",
    "3. Use String formating operators\n",
    "4. use Python's f-strings"
   ]
  },
  {
   "cell_type": "code",
   "execution_count": 32,
   "metadata": {},
   "outputs": [],
   "source": [
    "# Write your function in this cell\n",
    "def spammer(name, productName, contact):\n",
    "    print('Dear {}'.format(name))\n",
    "\n",
    "    print('We would like to let you know about our Warming Easter Offer: Get 30% Discount on All {} Products!'.format(productName))\n",
    "\n",
    "    print('Your family will have a blast with our new {} Package!'.format(productName))\n",
    "\n",
    "    print('So call us now on {}'.format(contact))\n",
    "\n",
    "    print('Have a great Easter weekend, {}!'.format(name))"
   ]
  },
  {
   "cell_type": "code",
   "execution_count": 43,
   "metadata": {},
   "outputs": [
    {
     "name": "stdout",
     "output_type": "stream",
     "text": [
      "Dear Jimmy\n",
      "\n",
      "We would like to let you know about our Warming Easter Offer: Get 30% Discount on All 30Rocks Products!\n",
      "\n",
      "Your family will have a blast with our new 30Rocks Package!\n",
      "\n",
      "So call us now on A Saturday\n",
      "\n",
      "Have a great Easter weekend, Jimmy!\n"
     ]
    }
   ],
   "source": [
    "print(spammer(\"Jimmy\", '30Rocks', 'A Saturday'))"
   ]
  },
  {
   "cell_type": "code",
   "execution_count": null,
   "metadata": {},
   "outputs": [],
   "source": []
  }
 ],
 "metadata": {
  "kernelspec": {
   "display_name": "Python 3",
   "language": "python",
   "name": "python3"
  },
  "language_info": {
   "codemirror_mode": {
    "name": "ipython",
    "version": 3
   },
   "file_extension": ".py",
   "mimetype": "text/x-python",
   "name": "python",
   "nbconvert_exporter": "python",
   "pygments_lexer": "ipython3",
   "version": "3.6.5"
  },
  "toc": {
   "base_numbering": 1,
   "nav_menu": {},
   "number_sections": true,
   "sideBar": true,
   "skip_h1_title": false,
   "title_cell": "Table of Contents",
   "title_sidebar": "Contents",
   "toc_cell": false,
   "toc_position": {},
   "toc_section_display": true,
   "toc_window_display": false
  }
 },
 "nbformat": 4,
 "nbformat_minor": 2
}
